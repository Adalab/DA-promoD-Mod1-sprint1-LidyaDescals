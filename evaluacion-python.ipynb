{
 "cells": [
  {
   "attachments": {},
   "cell_type": "markdown",
   "metadata": {},
   "source": [
    "**Métodos de *strings***\n",
    "\n",
    "Dado el siguiente *string* \n",
    "\n",
    "```python\n",
    "\n",
    "string = \"\"\"Hoy estamos en una clase de repaso,\n",
    "el objetivo es intentar solucionar todas vuestras dudas, \n",
    "preguntad todo lo que queráis! \n",
    "\"\"\"\n",
    "```\n"
   ]
  },
  {
   "cell_type": "code",
   "execution_count": 1,
   "metadata": {},
   "outputs": [],
   "source": [
    "string = \"\"\"Hoy estamos en una clase de repaso,\n",
    "el objetivo es intentar solucionar todas vuestras dudas, \n",
    "preguntad todo lo que queráis! \n",
    "\"\"\""
   ]
  },
  {
   "cell_type": "markdown",
   "metadata": {},
   "source": [
    "\n",
    "\n",
    "Contesta a las siguientes preguntas: \n",
    "\n",
    "1️⃣ Crea dos variables nuevas: \n",
    "    - Una con el *string* en mayúsculas\n",
    "    - Otra con las letras en minúsculas\n",
    "\n"
   ]
  },
  {
   "cell_type": "code",
   "execution_count": 2,
   "metadata": {},
   "outputs": [
    {
     "name": "stdout",
     "output_type": "stream",
     "text": [
      "HOY ESTAMOS EN UNA CLASE DE REPASO,\n",
      "EL OBJETIVO ES INTENTAR SOLUCIONAR TODAS VUESTRAS DUDAS, \n",
      "PREGUNTAD TODO LO QUE QUERÁIS! \n",
      "\n",
      "hoy estamos en una clase de repaso,\n",
      "el objetivo es intentar solucionar todas vuestras dudas, \n",
      "preguntad todo lo que queráis! \n",
      "\n"
     ]
    }
   ],
   "source": [
    "string_mayus = string.upper()\n",
    "string_minus = string.lower()\n",
    "print(string_mayus)\n",
    "print(string_minus)"
   ]
  },
  {
   "attachments": {},
   "cell_type": "markdown",
   "metadata": {},
   "source": [
    "\n",
    "2️⃣ Pon todas las primeras letras del *string* en mayúscula\n"
   ]
  },
  {
   "cell_type": "code",
   "execution_count": 3,
   "metadata": {},
   "outputs": [
    {
     "name": "stdout",
     "output_type": "stream",
     "text": [
      "Hoy Estamos En Una Clase De Repaso,\n",
      "El Objetivo Es Intentar Solucionar Todas Vuestras Dudas, \n",
      "Preguntad Todo Lo Que Queráis! \n",
      "\n"
     ]
    }
   ],
   "source": [
    "print(string.title())"
   ]
  },
  {
   "attachments": {},
   "cell_type": "markdown",
   "metadata": {},
   "source": [
    "\n",
    "3️⃣ Separa el *string*  por los espacios y almacena el resultado en una lista llamanda `texto_lista`\n"
   ]
  },
  {
   "cell_type": "code",
   "execution_count": 4,
   "metadata": {},
   "outputs": [
    {
     "data": {
      "text/plain": [
       "['Hoy',\n",
       " 'estamos',\n",
       " 'en',\n",
       " 'una',\n",
       " 'clase',\n",
       " 'de',\n",
       " 'repaso,',\n",
       " 'el',\n",
       " 'objetivo',\n",
       " 'es',\n",
       " 'intentar',\n",
       " 'solucionar',\n",
       " 'todas',\n",
       " 'vuestras',\n",
       " 'dudas,',\n",
       " 'preguntad',\n",
       " 'todo',\n",
       " 'lo',\n",
       " 'que',\n",
       " 'queráis!']"
      ]
     },
     "execution_count": 4,
     "metadata": {},
     "output_type": "execute_result"
    }
   ],
   "source": [
    "texto_lista = string.split()\n",
    "texto_lista\n"
   ]
  },
  {
   "attachments": {},
   "cell_type": "markdown",
   "metadata": {},
   "source": [
    "\n",
    "4️⃣ De la lista obtenida en el ejercicio anterior, selecciona solo los 5 primero elementos y almacena los resultados en una variable que se llame `texto_lista_corta` \n"
   ]
  },
  {
   "cell_type": "code",
   "execution_count": 5,
   "metadata": {},
   "outputs": [
    {
     "data": {
      "text/plain": [
       "['Hoy', 'estamos', 'en', 'una', 'clase']"
      ]
     },
     "execution_count": 5,
     "metadata": {},
     "output_type": "execute_result"
    }
   ],
   "source": [
    "texto_lista_corta = texto_lista[:5]\n",
    "texto_lista_corta"
   ]
  },
  {
   "attachments": {},
   "cell_type": "markdown",
   "metadata": {},
   "source": [
    "\n",
    "5️⃣ De la lista obtenida en el ejercicio 5. Vuelve a convertirlo en *string* \n"
   ]
  },
  {
   "cell_type": "code",
   "execution_count": 6,
   "metadata": {},
   "outputs": [
    {
     "data": {
      "text/plain": [
       "'Hoy estamos en una clase'"
      ]
     },
     "execution_count": 6,
     "metadata": {},
     "output_type": "execute_result"
    }
   ],
   "source": [
    "lista_corta_string = \" \".join(texto_lista_corta)\n",
    "lista_corta_string"
   ]
  },
  {
   "cell_type": "markdown",
   "metadata": {},
   "source": [
    "\n",
    "\n",
    "6️⃣ Con el *string* obtenido en el paso anterior: \n",
    "\n",
    "    - Esta la palabra \"el\" en el *string* \n",
    "\n",
    "    - Reemplaza \"Hoy\" por nada\n",
    "\n",
    "    - El ejercicio anterior nos ha dejado espacios al inicio del string, eliminalos\n"
   ]
  },
  {
   "cell_type": "code",
   "execution_count": 7,
   "metadata": {},
   "outputs": [
    {
     "data": {
      "text/plain": [
       "False"
      ]
     },
     "execution_count": 7,
     "metadata": {},
     "output_type": "execute_result"
    }
   ],
   "source": [
    "\"el\" in lista_corta_string"
   ]
  },
  {
   "cell_type": "code",
   "execution_count": 8,
   "metadata": {},
   "outputs": [
    {
     "data": {
      "text/plain": [
       "' estamos en una clase'"
      ]
     },
     "execution_count": 8,
     "metadata": {},
     "output_type": "execute_result"
    }
   ],
   "source": [
    "sin_hoy = lista_corta_string.replace(\"Hoy\", \"\")\n",
    "sin_hoy"
   ]
  },
  {
   "cell_type": "code",
   "execution_count": 9,
   "metadata": {},
   "outputs": [
    {
     "data": {
      "text/plain": [
       "'estamos en una clase'"
      ]
     },
     "execution_count": 9,
     "metadata": {},
     "output_type": "execute_result"
    }
   ],
   "source": [
    "sin_hoy.strip()"
   ]
  },
  {
   "attachments": {},
   "cell_type": "markdown",
   "metadata": {},
   "source": [
    "**Encuentra el número que no está en la lista**\n",
    "\n",
    "Tenemos una lista desordenada con números positivos de 1 a n. Siempre faltará un sólo número de esta lista aleatoria, ¿cómo identifico cuál falta? Cread un programa para que este código devuelva los resultados deseados:\n",
    "\n",
    "```python\n",
    "lista1 = [3,7,1,2,8,4,5] # nos tiene que devolver 6\n",
    "lista2 = [4,6,1,3,5] #  nos tiene que devolver 2\n",
    "lista3 = [34,35,36,38,39,40] # nos tiene que devolver 37\n",
    "```\n",
    "\n",
    "BONUS: Introduce los resultados obtenidos en un diccionario, indicando que numero falta para cada una de las listas:\n",
    "```python\n",
    "# por ejemplo\n",
    "\n",
    "resultados = {'falta_lista_1': valor_numerico_1, 'falta_lista_2': valor_numerico_2, 'falta_lista_3': valor_numerico_3}\n",
    "```"
   ]
  },
  {
   "cell_type": "code",
   "execution_count": 10,
   "metadata": {},
   "outputs": [],
   "source": [
    "lista1 = [3,7,1,2,8,4,5]\n",
    "lista2 = [4,6,1,3,5] \n",
    "lista3 = [34,35,36,38,39,40]\n"
   ]
  },
  {
   "cell_type": "code",
   "execution_count": 11,
   "metadata": {},
   "outputs": [
    {
     "name": "stdout",
     "output_type": "stream",
     "text": [
      "6\n"
     ]
    }
   ],
   "source": [
    "for i in range((min(lista1)),(max(lista1)+1)): \n",
    "    if i in lista1:\n",
    "        continue\n",
    "    else:\n",
    "        valor_faltante_lista1 = i\n",
    "        print(valor_faltante_lista1)\n"
   ]
  },
  {
   "cell_type": "code",
   "execution_count": 12,
   "metadata": {},
   "outputs": [
    {
     "name": "stdout",
     "output_type": "stream",
     "text": [
      "2\n"
     ]
    }
   ],
   "source": [
    "# Podemos usar el mismo programa de arriba para las listas 2 y 3 sustituyendo el nombre de las listas:\n",
    "\n",
    "for i in range((min(lista2)),(max(lista2)+1)): \n",
    "    if i in lista2:\n",
    "        continue\n",
    "    else:\n",
    "        valor_faltante_lista2 = i\n",
    "        print(valor_faltante_lista2)\n"
   ]
  },
  {
   "cell_type": "code",
   "execution_count": 13,
   "metadata": {},
   "outputs": [
    {
     "name": "stdout",
     "output_type": "stream",
     "text": [
      "37\n"
     ]
    }
   ],
   "source": [
    "\n",
    "for i in range((min(lista3)),(max(lista3)+1)): \n",
    "    if i in lista3: \n",
    "        continue\n",
    "    else:\n",
    "        valor_faltante_lista3 = i\n",
    "        print(valor_faltante_lista3)\n"
   ]
  },
  {
   "cell_type": "code",
   "execution_count": 14,
   "metadata": {},
   "outputs": [
    {
     "data": {
      "text/plain": [
       "{'Valor faltante lista1': 6,\n",
       " 'Valor faltante lista2': 2,\n",
       " 'Valor faltante lista3': 37}"
      ]
     },
     "execution_count": 14,
     "metadata": {},
     "output_type": "execute_result"
    }
   ],
   "source": [
    "resultados = {\"Valor faltante lista1\": valor_faltante_lista1, \"Valor faltante lista2\": valor_faltante_lista2, \"Valor faltante lista3\": valor_faltante_lista3}\n",
    "resultados"
   ]
  },
  {
   "cell_type": "markdown",
   "metadata": {},
   "source": [
    "**Mover los ceros a la izquierda**\n",
    "\n",
    "Nos dan un *string* con números aleatorios. Algunos de ellos son 0. Encuentra todos los ceros y ponlos al principio de la lista, manteniendo el orden de los demás números.\n",
    "\n",
    "Ejemplo:\n",
    "\n",
    "```python\n",
    "A = [1,10,88,0,59,63,0,20,0]\n",
    "\n",
    "# tiene que devolver\n",
    "[0, 0, 0, 1, 10, 88, 59, 63, 20]\n",
    "```"
   ]
  },
  {
   "cell_type": "code",
   "execution_count": 15,
   "metadata": {},
   "outputs": [
    {
     "name": "stdout",
     "output_type": "stream",
     "text": [
      "[0, 0, 0, 1, 10, 88, 59, 63, 20]\n"
     ]
    }
   ],
   "source": [
    "A = [1,10,88,0,59,63,0,20,0]\n",
    "\n",
    "# Creo la variable ceros_borrados para almacenar la cantidad de valores que movemos de sitio:\n",
    "\n",
    "ceros_borrados = 0\n",
    "\n",
    "for num in A:\n",
    "    if num == 0:\n",
    "        A.pop(A.index(num))\n",
    "        ceros_borrados +=1\n",
    "\n",
    "while ceros_borrados > 0:\n",
    "    A.insert(0,0)\n",
    "    ceros_borrados -= 1\n",
    "\n",
    "print(A)"
   ]
  },
  {
   "cell_type": "markdown",
   "metadata": {},
   "source": [
    "**Invertir palabras de una frase**\n",
    "\n",
    "Nos dan una frase en que quieren que las letras de cada palabra acaben teniendo el orden invertido, manteniendo el orden de las palabras.\n",
    "\n",
    "```python\n",
    "frase = 'Hola Ada'\n",
    "print(frase) # nos daría 'aloH adA'\n",
    "```"
   ]
  },
  {
   "cell_type": "code",
   "execution_count": 16,
   "metadata": {},
   "outputs": [
    {
     "name": "stdout",
     "output_type": "stream",
     "text": [
      "['Hola', 'Ada']\n",
      "['aloH']\n",
      "['aloH', 'adA']\n",
      "aloH adA\n"
     ]
    }
   ],
   "source": [
    "# La línea de código comentada contiene un uso de los indices que he visto buscando información en internet. No se si es válido para la evaluación. \n",
    "# En caso negativo, ofrezco una resolución alternativa (aunque menos óptima) al problema en la siguiente celda de código.\n",
    "\n",
    "frase = \"Hola Ada\"\n",
    "\n",
    "separada_metodo1 = frase.split()\n",
    "print(separada_metodo1)\n",
    "\n",
    "invertida_metodo1 = []\n",
    "\n",
    "for elem in separada_metodo1:\n",
    "    invertida_metodo1.append(elem[::-1]) # Creo que no hemos visto en clase que el tercer campo de este corchete puede definirse en negativo.\n",
    "    print(invertida_metodo1)\n",
    "\n",
    "\n",
    "invertida_metodo1 = \" \".join(invertida_metodo1)\n",
    "print(invertida_metodo1)\n"
   ]
  },
  {
   "cell_type": "code",
   "execution_count": 17,
   "metadata": {},
   "outputs": [
    {
     "name": "stdout",
     "output_type": "stream",
     "text": [
      "['Hola', 'Ada']\n",
      "[' ', 'a', 'l', 'o', 'H']\n",
      "[' ', 'a', 'l', 'o', 'H', ' ', 'a', 'd', 'A']\n",
      "aloH adA\n"
     ]
    }
   ],
   "source": [
    "# Aunque el método anterior de resolver el ejercicio es más corto y sencillo que este segundo método, he decidido realizarlo de las dos maneras,\n",
    "# ya que no se si el anterior es válido a efectos de esta evaluación. \n",
    "# A diferencia de los ejercicios anteriores, donde considero que no hacía falta, decido comentar este para ayudar a la comprensión del desarrollo.\n",
    "\n",
    "\n",
    "frase = \"Hola Ada\"\n",
    "\n",
    "separada_metodo2 = frase.split() # Aplicamos un método split para dividir nuestro string en una lista con dos elementos diferentes.\n",
    "print(separada_metodo2)\n",
    "\n",
    "para_insertar = [] # Creamos una lista vacía para poder insertar luego los valores del bucle for elem in separada_metodo2\n",
    "\n",
    "for elem in separada_metodo2:\n",
    "    \n",
    "    letras = [] #Lista creada para almacenar los resultados de la iteración for l in elem. Se coloca aquí porque debe estar vacía al inicio de cada bucle.\n",
    "\n",
    "    for l in elem:\n",
    "        \n",
    "        letras.append(l) # Insertamos la letra la lista creada para esta iteración.\n",
    "    \n",
    "    letras.reverse() # Cuando ya tenemos todos los l de elem en nuestra lista letras, le damos la vuelta.\n",
    "    letras.insert(0, \" \") # Añadimos un espacio al principio para poder separar las palabras cuando usemos el join.\n",
    "    para_insertar.extend(letras) # Añadimos a nuestra lista para_insertar todos los elementos de la lista letras.\n",
    "    print(para_insertar)\n",
    "\n",
    "    invertida_metodo2 = \"\".join(para_insertar).strip() # Aplicamos join para unir todos los elementos en dos palabras separadas y eliminamos espacios con strip.\n",
    "\n",
    "print(invertida_metodo2)\n",
    "\n",
    "\n"
   ]
  },
  {
   "attachments": {},
   "cell_type": "markdown",
   "metadata": {},
   "source": [
    "###  ¿Es un DNI valido?\n",
    "\n",
    "Los DNI españoles pueden ser:\n",
    "\n",
    "- NIF (Numero de Identificación Fiscal) - 8 numeros y una letra, o\n",
    "- NIE (Numero de Identificación de Extranjeros) - 1 letra, 7 numeros y 1 letra."
   ]
  },
  {
   "cell_type": "code",
   "execution_count": 28,
   "metadata": {},
   "outputs": [
    {
     "name": "stdout",
     "output_type": "stream",
     "text": [
      "['Válido', 'No válido', 'Válido', 'No válido', 'No válido', 'Válido', 'Válido', 'Válido', 'Válido', 'No válido', 'No válido', 'No válido']\n"
     ]
    }
   ],
   "source": [
    "lista_dni = [\"X-1234567-Z\", \"X-1234567\", \"12345678-M\", \"1234567-T\", \"12345677\"] \n",
    "\n",
    "lista_validos = [] # Empezamos creando una variable vacía para almacenar los resultados del bucle for.\n",
    "\n",
    "for i in lista_dni:\n",
    "    caracteres = i.split(\"-\") # Por cada dni/nie de la lista, usamos split para crear una lista de los elementos que lo componen, separándolos por los guiones.\n",
    "\n",
    "    if len(caracteres) == 3: # Esto es, si es un formato nie.\n",
    "        \n",
    "        try: \n",
    "            numeros = int(caracteres[1]) # Comprobamos primero que el cuerpo central son todo dígitos convirtiendolo a int. \n",
    "\n",
    "            if len(caracteres[0]) == 1 and len(caracteres[1]) == 7 and len(caracteres[2]) == 1: # Comprobamos que las longitudes de cada segmento son correctas.\n",
    "\n",
    "                try:                \n",
    "                    letras0 = int(caracteres[0]) # Intentamos esto porque si el elemento con índice 0 se puede convertir a int, entonces es un dígito y no nos vale.\n",
    "                    lista_validos.append(\"No válido\")\n",
    "\n",
    "                except:\n",
    "\n",
    "                    try:\n",
    "                        letras2 = int(caracteres[2]) # En caso de que la anterior condición se cumpla, comprobamos el elemento con índice 2.\n",
    "                        lista_validos.append(\"No válido\")\n",
    "                    \n",
    "                    except:\n",
    "                        lista_validos.append(\"Válido\")\n",
    "\n",
    "\n",
    "        except: \n",
    "            lista_validos.append(\"No válido\")\n",
    "            \n",
    "            \n",
    "    elif len(caracteres) == 2: # Esto es, si es un formato dni.\n",
    "\n",
    "        try: \n",
    "            numeros = int(caracteres[0]) # Comprobamos que el primer segmento se puede convertir a int, es decir, si todo son dígitos.\n",
    "\n",
    "            if len(caracteres[0]) == 8 and len(caracteres[1]) == 1: # Nos aseguramos de que las longitudes son correctas.\n",
    "                \n",
    "                try:\n",
    "                    letras1 = int(caracteres[1]) # Si podemos convertir a int el segundo segmento, entonces se trata de un dígito y no una letra, y no es válido.\n",
    "                    lista_validos.append(\"No válido\")\n",
    "\n",
    "                except:\n",
    "                    lista_validos.append(\"Válido\")\n",
    "\n",
    "            else:\n",
    "                lista_validos.append(\"No válido\")\n",
    "\n",
    "        except: \n",
    "            lista_validos.append(\"No válido\")\n",
    "        \n",
    "\n",
    "    else:\n",
    "        lista_validos.append(\"No válido\")\n",
    "            \n",
    "\n",
    "print(lista_validos)"
   ]
  },
  {
   "attachments": {},
   "cell_type": "markdown",
   "metadata": {},
   "source": [
    "**BONUS: Encuentra los k números más cerca a X**\n",
    "\n",
    "\n",
    "Haz una programa que compare los contenidos de una lista a un número dado X. Queremos que nos devuelva los k números que son más parecidos al número dado.\n",
    "\n",
    "Ejemplo:\n",
    "```python\n",
    "L = [4, 19, -5, 100, 53, 43, 74, -83, 13.5, 26]\n",
    "# Dados los siguientes valores \n",
    "x =30\n",
    "k = 3\n",
    "# El output debería ser igual a [26, 19, 43]\n",
    "```"
   ]
  },
  {
   "cell_type": "code",
   "execution_count": 19,
   "metadata": {},
   "outputs": [],
   "source": [
    "L = [4, 19, -5, 100, 53, 43, 74, -83, 13.5, 26]\n",
    "x = 30\n",
    "k = 3"
   ]
  },
  {
   "cell_type": "code",
   "execution_count": 20,
   "metadata": {},
   "outputs": [
    {
     "name": "stdout",
     "output_type": "stream",
     "text": [
      "[26, 19, 43]\n"
     ]
    }
   ],
   "source": [
    "\n",
    "diferencias = [] # Empezamos creando una lista vacía en la que almacenar los resultados del for loop.\n",
    "\n",
    "for i in L:\n",
    "    if i <= x:\n",
    "        dif = x - i\n",
    "        diferencias.append(dif)\n",
    "    elif i > x:\n",
    "        dif = i - x\n",
    "        diferencias.append(dif) # Con este bucle añadimos a la lista las diferencias entre x y cada uno de los valores de L. \n",
    "\n",
    "lista_diferencias = list(zip(diferencias, L)) # Usamos la función zip para unir las dos listas en una lista de tuplas de parejas.\n",
    "lista_diferencias.sort() # Con el método sort ordenamos las tuplas por su primer elemento.\n",
    "\n",
    "resultado_final = [] # Creamos una lista vacía para almacenar los resultados del segundo for loop.\n",
    "\n",
    "for i in lista_diferencias:\n",
    "    indice = lista_diferencias.index(i)\n",
    "    if len(resultado_final) < k:\n",
    "        resultado_final.append(lista_diferencias[indice][1]) # Con este bucle recorremos la lista de tuplas, establecemos el indice de cada tupla según la iteración\n",
    "                                                             # y añadimos a resultado_final el segundo elemento de cada tupla hasta llegar a la cantidad deseada (k)\n",
    "\n",
    "print(resultado_final)\n",
    "\n"
   ]
  }
 ],
 "metadata": {
  "kernelspec": {
   "display_name": "Python 3",
   "language": "python",
   "name": "python3"
  },
  "language_info": {
   "codemirror_mode": {
    "name": "ipython",
    "version": 3
   },
   "file_extension": ".py",
   "mimetype": "text/x-python",
   "name": "python",
   "nbconvert_exporter": "python",
   "pygments_lexer": "ipython3",
   "version": "3.10.9"
  },
  "orig_nbformat": 4,
  "vscode": {
   "interpreter": {
    "hash": "31f2aee4e71d21fbe5cf8b01ff0e069b9275f58929596ceb00d14d90e3e16cd6"
   }
  }
 },
 "nbformat": 4,
 "nbformat_minor": 2
}
